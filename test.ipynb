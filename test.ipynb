{
 "cells": [
  {
   "cell_type": "code",
   "execution_count": 67,
   "metadata": {
    "collapsed": true
   },
   "outputs": [],
   "source": [
    "import numpy as np\n",
    "import pandas as pd\n",
    "import matplotlib.pyplot as plt\n",
    "import seaborn as sns"
   ]
  },
  {
   "attachments": {},
   "cell_type": "markdown",
   "metadata": {},
   "source": [
    "## INPUT"
   ]
  },
  {
   "cell_type": "code",
   "execution_count": 68,
   "metadata": {
    "collapsed": true
   },
   "outputs": [],
   "source": [
    "df = pd.DataFrame(\n",
    "    [\n",
    "        ['Conventional', 'One-to-four family dwelling (other than manufactured housing)', 'Home improvement', 'Owner-occupied as a principal dwelling', 588, 'Male', 313], # APPROVED - FROM DATASET\n",
    "        ['VA-guaranteed', 'One-to-four family dwelling (other than manufactured housing)', 'Home purchase', 'Owner-occupied as a principal dwelling', 600, 'Female', 80], # APPROVED - FROM DATASET\n",
    "        ['FHA-insured', 'One-to-four family dwelling (other than manufactured housing)', 'Home purchase', 'Owner-occupied as a principal dwelling', 589, 'Male', 124], # NOT APPROVED - FROM DATASET\n",
    "        ['Conventional', 'One-to-four family dwelling (other than manufactured housing)', 'Home improvement', 'Owner-occupied as a principal dwelling', 35, 'Male', 12], # NOT APPROVED - FROM DATASET\n",
    "\n",
    "        ['Conventional', 'One-to-four family dwelling (other than manufactured housing)', 'Home improvement', 'Owner-occupied as a principal dwelling', 500, 'Male', 10], # NOT APPROVED - TESTING\n",
    "        ['Conventional', 'One-to-four family dwelling (other than manufactured housing)', 'Home improvement', 'Owner-occupied as a principal dwelling', 10, 'Male', 500], # APPROVED - TESTING\n",
    "    ], columns=['loan_type', 'property_type', 'purpose', 'occupancy', 'amount', 'sex', 'income'])\n"
   ]
  },
  {
   "attachments": {},
   "cell_type": "markdown",
   "metadata": {},
   "source": [
    "# Encode Categorical Features"
   ]
  },
  {
   "cell_type": "code",
   "execution_count": 69,
   "metadata": {},
   "outputs": [
    {
     "data": {
      "text/plain": [
       "loan_type        object\n",
       "property_type    object\n",
       "purpose          object\n",
       "occupancy        object\n",
       "amount            int64\n",
       "sex              object\n",
       "income            int64\n",
       "dtype: object"
      ]
     },
     "execution_count": 69,
     "metadata": {},
     "output_type": "execute_result"
    }
   ],
   "source": [
    "df.dtypes"
   ]
  },
  {
   "cell_type": "code",
   "execution_count": 70,
   "metadata": {},
   "outputs": [
    {
     "data": {
      "text/plain": [
       "['loan_type', 'property_type', 'purpose', 'occupancy', 'sex']"
      ]
     },
     "execution_count": 70,
     "metadata": {},
     "output_type": "execute_result"
    }
   ],
   "source": [
    "from sklearn.compose import make_column_selector as selector\n",
    "\n",
    "categorical_columns_selector = selector(dtype_include=object)\n",
    "categorical_columns = categorical_columns_selector(df)\n",
    "categorical_columns\n"
   ]
  },
  {
   "cell_type": "code",
   "execution_count": 71,
   "metadata": {},
   "outputs": [],
   "source": [
    "df = pd.get_dummies(df, columns=categorical_columns)"
   ]
  },
  {
   "attachments": {},
   "cell_type": "markdown",
   "metadata": {},
   "source": [
    "### Making sure the data have the same columns count"
   ]
  },
  {
   "cell_type": "code",
   "execution_count": 72,
   "metadata": {},
   "outputs": [],
   "source": [
    "MODEL_COLUMNS = ['amount', 'income', 'loan_type_Conventional',\n",
    "       'loan_type_FHA-insured', 'loan_type_FSA/RHS-guaranteed',\n",
    "       'loan_type_VA-guaranteed', 'property_type_Manufactured housing',\n",
    "       'property_type_One-to-four family dwelling (other than manufactured housing)',\n",
    "       'purpose_Home improvement', 'purpose_Home purchase',\n",
    "       'purpose_Refinancing', 'occupancy_Not applicable',\n",
    "       'occupancy_Not owner-occupied as a principal dwelling',\n",
    "       'occupancy_Owner-occupied as a principal dwelling', 'sex_Female',\n",
    "       'sex_Information not provided by applicant in mail, Internet, or telephone application', 'sex_Male', 'sex_Not applicable']\n",
    "for col in MODEL_COLUMNS:\n",
    "    if col not in df.columns:\n",
    "        df[col] = [0] * len(df)"
   ]
  },
  {
   "cell_type": "code",
   "execution_count": 73,
   "metadata": {},
   "outputs": [],
   "source": [
    "df = pd.DataFrame(df[MODEL_COLUMNS])"
   ]
  },
  {
   "cell_type": "code",
   "execution_count": 74,
   "metadata": {},
   "outputs": [
    {
     "name": "stdout",
     "output_type": "stream",
     "text": [
      "[1 1 1 0 0]\n"
     ]
    }
   ],
   "source": [
    "import pickle\n",
    "model = pickle.load(open('model', 'rb'))\n",
    "result = model.predict(df)\n",
    "print(result) # Should be [1 1 0 0]"
   ]
  }
 ],
 "metadata": {
  "kernelspec": {
   "display_name": "Python 3",
   "language": "python",
   "name": "python3"
  },
  "language_info": {
   "codemirror_mode": {
    "name": "ipython",
    "version": 3
   },
   "file_extension": ".py",
   "mimetype": "text/x-python",
   "name": "python",
   "nbconvert_exporter": "python",
   "pygments_lexer": "ipython3",
   "version": "3.7.11"
  }
 },
 "nbformat": 4,
 "nbformat_minor": 0
}
