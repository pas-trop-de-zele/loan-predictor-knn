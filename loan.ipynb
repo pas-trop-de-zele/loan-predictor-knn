{
 "cells": [
  {
   "cell_type": "code",
   "execution_count": 291,
   "metadata": {
    "collapsed": true
   },
   "outputs": [],
   "source": [
    "import numpy as np\n",
    "import pandas as pd\n",
    "import matplotlib.pyplot as plt\n",
    "import seaborn as sns"
   ]
  },
  {
   "attachments": {},
   "cell_type": "markdown",
   "metadata": {},
   "source": [
    "## Data"
   ]
  },
  {
   "attachments": {},
   "cell_type": "markdown",
   "metadata": {},
   "source": [
    "![](\"1.png\")"
   ]
  },
  {
   "cell_type": "code",
   "execution_count": 292,
   "metadata": {
    "collapsed": true
   },
   "outputs": [],
   "source": [
    "df = pd.read_csv(\"hawaii.csv\")\n"
   ]
  },
  {
   "cell_type": "code",
   "execution_count": 293,
   "metadata": {},
   "outputs": [
    {
     "data": {
      "text/plain": [
       "Index(['loan_type', 'property_type', 'purpose', 'occupancy', 'amount',\n",
       "       'status', 'sex', 'income'],\n",
       "      dtype='object')"
      ]
     },
     "execution_count": 293,
     "metadata": {},
     "output_type": "execute_result"
    }
   ],
   "source": [
    "df.columns"
   ]
  },
  {
   "cell_type": "code",
   "execution_count": 294,
   "metadata": {
    "collapsed": false
   },
   "outputs": [
    {
     "data": {
      "text/html": [
       "<div>\n",
       "<style scoped>\n",
       "    .dataframe tbody tr th:only-of-type {\n",
       "        vertical-align: middle;\n",
       "    }\n",
       "\n",
       "    .dataframe tbody tr th {\n",
       "        vertical-align: top;\n",
       "    }\n",
       "\n",
       "    .dataframe thead th {\n",
       "        text-align: right;\n",
       "    }\n",
       "</style>\n",
       "<table border=\"1\" class=\"dataframe\">\n",
       "  <thead>\n",
       "    <tr style=\"text-align: right;\">\n",
       "      <th></th>\n",
       "      <th>loan_type</th>\n",
       "      <th>property_type</th>\n",
       "      <th>purpose</th>\n",
       "      <th>occupancy</th>\n",
       "      <th>amount</th>\n",
       "      <th>status</th>\n",
       "      <th>sex</th>\n",
       "      <th>income</th>\n",
       "    </tr>\n",
       "  </thead>\n",
       "  <tbody>\n",
       "    <tr>\n",
       "      <th>0</th>\n",
       "      <td>Conventional</td>\n",
       "      <td>One-to-four family dwelling (other than manufa...</td>\n",
       "      <td>Home purchase</td>\n",
       "      <td>Owner-occupied as a principal dwelling</td>\n",
       "      <td>396</td>\n",
       "      <td>Loan originated</td>\n",
       "      <td>Female</td>\n",
       "      <td>152.0</td>\n",
       "    </tr>\n",
       "    <tr>\n",
       "      <th>1</th>\n",
       "      <td>VA-guaranteed</td>\n",
       "      <td>One-to-four family dwelling (other than manufa...</td>\n",
       "      <td>Home purchase</td>\n",
       "      <td>Owner-occupied as a principal dwelling</td>\n",
       "      <td>662</td>\n",
       "      <td>Loan originated</td>\n",
       "      <td>Male</td>\n",
       "      <td>111.0</td>\n",
       "    </tr>\n",
       "    <tr>\n",
       "      <th>2</th>\n",
       "      <td>Conventional</td>\n",
       "      <td>One-to-four family dwelling (other than manufa...</td>\n",
       "      <td>Home purchase</td>\n",
       "      <td>Owner-occupied as a principal dwelling</td>\n",
       "      <td>461</td>\n",
       "      <td>Loan originated</td>\n",
       "      <td>Female</td>\n",
       "      <td>138.0</td>\n",
       "    </tr>\n",
       "    <tr>\n",
       "      <th>3</th>\n",
       "      <td>Conventional</td>\n",
       "      <td>One-to-four family dwelling (other than manufa...</td>\n",
       "      <td>Refinancing</td>\n",
       "      <td>Not owner-occupied as a principal dwelling</td>\n",
       "      <td>345</td>\n",
       "      <td>Loan originated</td>\n",
       "      <td>Female</td>\n",
       "      <td>184.0</td>\n",
       "    </tr>\n",
       "    <tr>\n",
       "      <th>4</th>\n",
       "      <td>Conventional</td>\n",
       "      <td>One-to-four family dwelling (other than manufa...</td>\n",
       "      <td>Refinancing</td>\n",
       "      <td>Not owner-occupied as a principal dwelling</td>\n",
       "      <td>210</td>\n",
       "      <td>Application withdrawn by applicant</td>\n",
       "      <td>Female</td>\n",
       "      <td>99.0</td>\n",
       "    </tr>\n",
       "  </tbody>\n",
       "</table>\n",
       "</div>"
      ],
      "text/plain": [
       "       loan_type                                      property_type  \\\n",
       "0   Conventional  One-to-four family dwelling (other than manufa...   \n",
       "1  VA-guaranteed  One-to-four family dwelling (other than manufa...   \n",
       "2   Conventional  One-to-four family dwelling (other than manufa...   \n",
       "3   Conventional  One-to-four family dwelling (other than manufa...   \n",
       "4   Conventional  One-to-four family dwelling (other than manufa...   \n",
       "\n",
       "         purpose                                   occupancy  amount  \\\n",
       "0  Home purchase      Owner-occupied as a principal dwelling     396   \n",
       "1  Home purchase      Owner-occupied as a principal dwelling     662   \n",
       "2  Home purchase      Owner-occupied as a principal dwelling     461   \n",
       "3    Refinancing  Not owner-occupied as a principal dwelling     345   \n",
       "4    Refinancing  Not owner-occupied as a principal dwelling     210   \n",
       "\n",
       "                               status     sex  income  \n",
       "0                     Loan originated  Female   152.0  \n",
       "1                     Loan originated    Male   111.0  \n",
       "2                     Loan originated  Female   138.0  \n",
       "3                     Loan originated  Female   184.0  \n",
       "4  Application withdrawn by applicant  Female    99.0  "
      ]
     },
     "execution_count": 294,
     "metadata": {},
     "output_type": "execute_result"
    }
   ],
   "source": [
    "df.head()"
   ]
  },
  {
   "cell_type": "code",
   "execution_count": 295,
   "metadata": {},
   "outputs": [
    {
     "data": {
      "text/plain": [
       "Index(['loan_type', 'property_type', 'purpose', 'occupancy', 'amount',\n",
       "       'status', 'sex', 'income'],\n",
       "      dtype='object')"
      ]
     },
     "execution_count": 295,
     "metadata": {},
     "output_type": "execute_result"
    }
   ],
   "source": [
    "df.columns"
   ]
  },
  {
   "cell_type": "code",
   "execution_count": 296,
   "metadata": {},
   "outputs": [
    {
     "name": "stdout",
     "output_type": "stream",
     "text": [
      "-------loan_type--------\n",
      "Conventional          32182\n",
      "VA-guaranteed          8722\n",
      "FHA-insured            2911\n",
      "FSA/RHS-guaranteed     1053\n",
      "Name: loan_type, dtype: int64\n",
      "-------property_type--------\n",
      "One-to-four family dwelling (other than manufactured housing)    44735\n",
      "Multifamily dwelling                                               125\n",
      "Manufactured housing                                                 8\n",
      "Name: property_type, dtype: int64\n",
      "-------purpose--------\n",
      "Home purchase       21900\n",
      "Refinancing         18960\n",
      "Home improvement     4008\n",
      "Name: purpose, dtype: int64\n",
      "-------occupancy--------\n",
      "Owner-occupied as a principal dwelling        36872\n",
      "Not owner-occupied as a principal dwelling     7874\n",
      "Not applicable                                  122\n",
      "Name: occupancy, dtype: int64\n",
      "-------amount--------\n",
      "636     615\n",
      "300     427\n",
      "250     367\n",
      "500     363\n",
      "400     362\n",
      "       ... \n",
      "1404      1\n",
      "2350      1\n",
      "1956      1\n",
      "1388      1\n",
      "7163      1\n",
      "Name: amount, Length: 1563, dtype: int64\n",
      "-------status--------\n",
      "Loan originated                                26553\n",
      "Application withdrawn by applicant              5605\n",
      "Application denied by financial institution     5506\n",
      "Loan purchased by the institution               4410\n",
      "File closed for incompleteness                  1558\n",
      "Application approved but not accepted           1236\n",
      "Name: status, dtype: int64\n",
      "-------sex--------\n",
      "Male                                                                                 27665\n",
      "Female                                                                               10295\n",
      "Information not provided by applicant in mail, Internet, or telephone application     3921\n",
      "Not applicable                                                                        2987\n",
      "Name: sex, dtype: int64\n",
      "-------income--------\n",
      "100.0     391\n",
      "90.0      378\n",
      "96.0      374\n",
      "120.0     372\n",
      "60.0      367\n",
      "         ... \n",
      "815.0       1\n",
      "1071.0      1\n",
      "1620.0      1\n",
      "2404.0      1\n",
      "1364.0      1\n",
      "Name: income, Length: 1096, dtype: int64\n"
     ]
    }
   ],
   "source": [
    "for col in df.columns:\n",
    "    print(f'-------{col}--------')\n",
    "    print(df[col].value_counts())"
   ]
  },
  {
   "attachments": {},
   "cell_type": "markdown",
   "metadata": {},
   "source": [
    "# EDA"
   ]
  },
  {
   "cell_type": "code",
   "execution_count": 297,
   "metadata": {},
   "outputs": [],
   "source": [
    "# Remove null values\n",
    "df = df.dropna()"
   ]
  },
  {
   "attachments": {},
   "cell_type": "markdown",
   "metadata": {},
   "source": [
    "### Status"
   ]
  },
  {
   "cell_type": "code",
   "execution_count": 298,
   "metadata": {},
   "outputs": [],
   "source": [
    "# Keep only records that either granted or rejected loans\n",
    "states = ['originated', 'approved', 'denied']\n",
    "df = df[df.apply(lambda x: any(s in x.status for s in states), axis=1)]"
   ]
  },
  {
   "cell_type": "code",
   "execution_count": 299,
   "metadata": {},
   "outputs": [
    {
     "data": {
      "text/plain": [
       "Loan originated                                25429\n",
       "Application denied by financial institution     5321\n",
       "Application approved but not accepted           1164\n",
       "Name: status, dtype: int64"
      ]
     },
     "execution_count": 299,
     "metadata": {},
     "output_type": "execute_result"
    }
   ],
   "source": [
    "df.status.value_counts()"
   ]
  },
  {
   "cell_type": "code",
   "execution_count": 300,
   "metadata": {},
   "outputs": [],
   "source": [
    "# Merged approved and withdrawn in row status\n",
    "def f(row):\n",
    "    return 1 if (\"approved\" in row.status or \"originated\" in row.status) else 0\n",
    "df['status'] = df.apply(f, axis=1)\n"
   ]
  },
  {
   "cell_type": "code",
   "execution_count": 301,
   "metadata": {},
   "outputs": [
    {
     "data": {
      "text/plain": [
       "array([1, 0], dtype=int64)"
      ]
     },
     "execution_count": 301,
     "metadata": {},
     "output_type": "execute_result"
    }
   ],
   "source": [
    "df['status'].unique()"
   ]
  },
  {
   "cell_type": "code",
   "execution_count": 302,
   "metadata": {},
   "outputs": [
    {
     "data": {
      "text/plain": [
       "1    26593\n",
       "0     5321\n",
       "Name: status, dtype: int64"
      ]
     },
     "execution_count": 302,
     "metadata": {},
     "output_type": "execute_result"
    }
   ],
   "source": [
    "# Making sure the counts added up\n",
    "df.status.value_counts()"
   ]
  },
  {
   "attachments": {},
   "cell_type": "markdown",
   "metadata": {},
   "source": [
    "# Encode Categorical Features"
   ]
  },
  {
   "cell_type": "code",
   "execution_count": 303,
   "metadata": {},
   "outputs": [
    {
     "data": {
      "text/plain": [
       "loan_type         object\n",
       "property_type     object\n",
       "purpose           object\n",
       "occupancy         object\n",
       "amount             int64\n",
       "status             int64\n",
       "sex               object\n",
       "income           float64\n",
       "dtype: object"
      ]
     },
     "execution_count": 303,
     "metadata": {},
     "output_type": "execute_result"
    }
   ],
   "source": [
    "df.dtypes"
   ]
  },
  {
   "cell_type": "code",
   "execution_count": 304,
   "metadata": {},
   "outputs": [
    {
     "data": {
      "text/html": [
       "<div>\n",
       "<style scoped>\n",
       "    .dataframe tbody tr th:only-of-type {\n",
       "        vertical-align: middle;\n",
       "    }\n",
       "\n",
       "    .dataframe tbody tr th {\n",
       "        vertical-align: top;\n",
       "    }\n",
       "\n",
       "    .dataframe thead th {\n",
       "        text-align: right;\n",
       "    }\n",
       "</style>\n",
       "<table border=\"1\" class=\"dataframe\">\n",
       "  <thead>\n",
       "    <tr style=\"text-align: right;\">\n",
       "      <th></th>\n",
       "      <th>amount</th>\n",
       "      <th>status</th>\n",
       "      <th>income</th>\n",
       "      <th>loan_type_Conventional</th>\n",
       "      <th>loan_type_FHA-insured</th>\n",
       "      <th>loan_type_FSA/RHS-guaranteed</th>\n",
       "      <th>loan_type_VA-guaranteed</th>\n",
       "      <th>property_type_Manufactured housing</th>\n",
       "      <th>property_type_One-to-four family dwelling (other than manufactured housing)</th>\n",
       "      <th>purpose_Home improvement</th>\n",
       "      <th>purpose_Home purchase</th>\n",
       "      <th>purpose_Refinancing</th>\n",
       "      <th>occupancy_Not applicable</th>\n",
       "      <th>occupancy_Not owner-occupied as a principal dwelling</th>\n",
       "      <th>occupancy_Owner-occupied as a principal dwelling</th>\n",
       "      <th>sex_Female</th>\n",
       "      <th>sex_Information not provided by applicant in mail, Internet, or telephone application</th>\n",
       "      <th>sex_Male</th>\n",
       "      <th>sex_Not applicable</th>\n",
       "    </tr>\n",
       "  </thead>\n",
       "  <tbody>\n",
       "    <tr>\n",
       "      <th>0</th>\n",
       "      <td>396</td>\n",
       "      <td>1</td>\n",
       "      <td>152.0</td>\n",
       "      <td>1</td>\n",
       "      <td>0</td>\n",
       "      <td>0</td>\n",
       "      <td>0</td>\n",
       "      <td>0</td>\n",
       "      <td>1</td>\n",
       "      <td>0</td>\n",
       "      <td>1</td>\n",
       "      <td>0</td>\n",
       "      <td>0</td>\n",
       "      <td>0</td>\n",
       "      <td>1</td>\n",
       "      <td>1</td>\n",
       "      <td>0</td>\n",
       "      <td>0</td>\n",
       "      <td>0</td>\n",
       "    </tr>\n",
       "    <tr>\n",
       "      <th>1</th>\n",
       "      <td>662</td>\n",
       "      <td>1</td>\n",
       "      <td>111.0</td>\n",
       "      <td>0</td>\n",
       "      <td>0</td>\n",
       "      <td>0</td>\n",
       "      <td>1</td>\n",
       "      <td>0</td>\n",
       "      <td>1</td>\n",
       "      <td>0</td>\n",
       "      <td>1</td>\n",
       "      <td>0</td>\n",
       "      <td>0</td>\n",
       "      <td>0</td>\n",
       "      <td>1</td>\n",
       "      <td>0</td>\n",
       "      <td>0</td>\n",
       "      <td>1</td>\n",
       "      <td>0</td>\n",
       "    </tr>\n",
       "    <tr>\n",
       "      <th>2</th>\n",
       "      <td>461</td>\n",
       "      <td>1</td>\n",
       "      <td>138.0</td>\n",
       "      <td>1</td>\n",
       "      <td>0</td>\n",
       "      <td>0</td>\n",
       "      <td>0</td>\n",
       "      <td>0</td>\n",
       "      <td>1</td>\n",
       "      <td>0</td>\n",
       "      <td>1</td>\n",
       "      <td>0</td>\n",
       "      <td>0</td>\n",
       "      <td>0</td>\n",
       "      <td>1</td>\n",
       "      <td>1</td>\n",
       "      <td>0</td>\n",
       "      <td>0</td>\n",
       "      <td>0</td>\n",
       "    </tr>\n",
       "    <tr>\n",
       "      <th>3</th>\n",
       "      <td>345</td>\n",
       "      <td>1</td>\n",
       "      <td>184.0</td>\n",
       "      <td>1</td>\n",
       "      <td>0</td>\n",
       "      <td>0</td>\n",
       "      <td>0</td>\n",
       "      <td>0</td>\n",
       "      <td>1</td>\n",
       "      <td>0</td>\n",
       "      <td>0</td>\n",
       "      <td>1</td>\n",
       "      <td>0</td>\n",
       "      <td>1</td>\n",
       "      <td>0</td>\n",
       "      <td>1</td>\n",
       "      <td>0</td>\n",
       "      <td>0</td>\n",
       "      <td>0</td>\n",
       "    </tr>\n",
       "    <tr>\n",
       "      <th>5</th>\n",
       "      <td>563</td>\n",
       "      <td>0</td>\n",
       "      <td>116.0</td>\n",
       "      <td>0</td>\n",
       "      <td>0</td>\n",
       "      <td>0</td>\n",
       "      <td>1</td>\n",
       "      <td>0</td>\n",
       "      <td>1</td>\n",
       "      <td>0</td>\n",
       "      <td>0</td>\n",
       "      <td>1</td>\n",
       "      <td>0</td>\n",
       "      <td>0</td>\n",
       "      <td>1</td>\n",
       "      <td>0</td>\n",
       "      <td>0</td>\n",
       "      <td>1</td>\n",
       "      <td>0</td>\n",
       "    </tr>\n",
       "  </tbody>\n",
       "</table>\n",
       "</div>"
      ],
      "text/plain": [
       "   amount  status  income  loan_type_Conventional  loan_type_FHA-insured  \\\n",
       "0     396       1   152.0                       1                      0   \n",
       "1     662       1   111.0                       0                      0   \n",
       "2     461       1   138.0                       1                      0   \n",
       "3     345       1   184.0                       1                      0   \n",
       "5     563       0   116.0                       0                      0   \n",
       "\n",
       "   loan_type_FSA/RHS-guaranteed  loan_type_VA-guaranteed  \\\n",
       "0                             0                        0   \n",
       "1                             0                        1   \n",
       "2                             0                        0   \n",
       "3                             0                        0   \n",
       "5                             0                        1   \n",
       "\n",
       "   property_type_Manufactured housing  \\\n",
       "0                                   0   \n",
       "1                                   0   \n",
       "2                                   0   \n",
       "3                                   0   \n",
       "5                                   0   \n",
       "\n",
       "   property_type_One-to-four family dwelling (other than manufactured housing)  \\\n",
       "0                                                  1                             \n",
       "1                                                  1                             \n",
       "2                                                  1                             \n",
       "3                                                  1                             \n",
       "5                                                  1                             \n",
       "\n",
       "   purpose_Home improvement  purpose_Home purchase  purpose_Refinancing  \\\n",
       "0                         0                      1                    0   \n",
       "1                         0                      1                    0   \n",
       "2                         0                      1                    0   \n",
       "3                         0                      0                    1   \n",
       "5                         0                      0                    1   \n",
       "\n",
       "   occupancy_Not applicable  \\\n",
       "0                         0   \n",
       "1                         0   \n",
       "2                         0   \n",
       "3                         0   \n",
       "5                         0   \n",
       "\n",
       "   occupancy_Not owner-occupied as a principal dwelling  \\\n",
       "0                                                  0      \n",
       "1                                                  0      \n",
       "2                                                  0      \n",
       "3                                                  1      \n",
       "5                                                  0      \n",
       "\n",
       "   occupancy_Owner-occupied as a principal dwelling  sex_Female  \\\n",
       "0                                                 1           1   \n",
       "1                                                 1           0   \n",
       "2                                                 1           1   \n",
       "3                                                 0           1   \n",
       "5                                                 1           0   \n",
       "\n",
       "   sex_Information not provided by applicant in mail, Internet, or telephone application  \\\n",
       "0                                                  0                                       \n",
       "1                                                  0                                       \n",
       "2                                                  0                                       \n",
       "3                                                  0                                       \n",
       "5                                                  0                                       \n",
       "\n",
       "   sex_Male  sex_Not applicable  \n",
       "0         0                   0  \n",
       "1         1                   0  \n",
       "2         0                   0  \n",
       "3         0                   0  \n",
       "5         1                   0  "
      ]
     },
     "execution_count": 304,
     "metadata": {},
     "output_type": "execute_result"
    }
   ],
   "source": [
    "from sklearn.compose import make_column_selector as selector\n",
    "\n",
    "categorical_columns_selector = selector(dtype_include=object)\n",
    "categorical_columns = categorical_columns_selector(df)\n",
    "categorical_columns\n",
    "df = pd.get_dummies(df, columns=categorical_columns)\n",
    "df.head()\n"
   ]
  },
  {
   "attachments": {},
   "cell_type": "markdown",
   "metadata": {},
   "source": [
    "# Train Test Split"
   ]
  },
  {
   "cell_type": "code",
   "execution_count": null,
   "metadata": {
    "collapsed": true
   },
   "outputs": [],
   "source": [
    "from sklearn.model_selection import train_test_split"
   ]
  },
  {
   "cell_type": "code",
   "execution_count": null,
   "metadata": {
    "collapsed": true
   },
   "outputs": [],
   "source": [
    "X_train, X_test, y_train, y_test = train_test_split(\n",
    "    df.drop('status', axis=1), df['status'], test_size=0.3, random_state=101)\n"
   ]
  },
  {
   "cell_type": "code",
   "execution_count": null,
   "metadata": {},
   "outputs": [
    {
     "data": {
      "text/html": [
       "<div>\n",
       "<style scoped>\n",
       "    .dataframe tbody tr th:only-of-type {\n",
       "        vertical-align: middle;\n",
       "    }\n",
       "\n",
       "    .dataframe tbody tr th {\n",
       "        vertical-align: top;\n",
       "    }\n",
       "\n",
       "    .dataframe thead th {\n",
       "        text-align: right;\n",
       "    }\n",
       "</style>\n",
       "<table border=\"1\" class=\"dataframe\">\n",
       "  <thead>\n",
       "    <tr style=\"text-align: right;\">\n",
       "      <th></th>\n",
       "      <th>amount</th>\n",
       "      <th>income</th>\n",
       "      <th>loan_type_Conventional</th>\n",
       "      <th>loan_type_FHA-insured</th>\n",
       "      <th>loan_type_FSA/RHS-guaranteed</th>\n",
       "      <th>loan_type_VA-guaranteed</th>\n",
       "      <th>property_type_Manufactured housing</th>\n",
       "      <th>property_type_One-to-four family dwelling (other than manufactured housing)</th>\n",
       "      <th>purpose_Home improvement</th>\n",
       "      <th>purpose_Home purchase</th>\n",
       "      <th>purpose_Refinancing</th>\n",
       "      <th>occupancy_Not applicable</th>\n",
       "      <th>occupancy_Not owner-occupied as a principal dwelling</th>\n",
       "      <th>occupancy_Owner-occupied as a principal dwelling</th>\n",
       "      <th>sex_Female</th>\n",
       "      <th>sex_Information not provided by applicant in mail, Internet, or telephone application</th>\n",
       "      <th>sex_Male</th>\n",
       "      <th>sex_Not applicable</th>\n",
       "    </tr>\n",
       "  </thead>\n",
       "  <tbody>\n",
       "    <tr>\n",
       "      <th>10375</th>\n",
       "      <td>900</td>\n",
       "      <td>188.0</td>\n",
       "      <td>1</td>\n",
       "      <td>0</td>\n",
       "      <td>0</td>\n",
       "      <td>0</td>\n",
       "      <td>0</td>\n",
       "      <td>1</td>\n",
       "      <td>0</td>\n",
       "      <td>1</td>\n",
       "      <td>0</td>\n",
       "      <td>0</td>\n",
       "      <td>1</td>\n",
       "      <td>0</td>\n",
       "      <td>0</td>\n",
       "      <td>0</td>\n",
       "      <td>1</td>\n",
       "      <td>0</td>\n",
       "    </tr>\n",
       "    <tr>\n",
       "      <th>8872</th>\n",
       "      <td>967</td>\n",
       "      <td>402.0</td>\n",
       "      <td>1</td>\n",
       "      <td>0</td>\n",
       "      <td>0</td>\n",
       "      <td>0</td>\n",
       "      <td>0</td>\n",
       "      <td>1</td>\n",
       "      <td>0</td>\n",
       "      <td>1</td>\n",
       "      <td>0</td>\n",
       "      <td>0</td>\n",
       "      <td>1</td>\n",
       "      <td>0</td>\n",
       "      <td>0</td>\n",
       "      <td>0</td>\n",
       "      <td>1</td>\n",
       "      <td>0</td>\n",
       "    </tr>\n",
       "    <tr>\n",
       "      <th>3531</th>\n",
       "      <td>49</td>\n",
       "      <td>101.0</td>\n",
       "      <td>1</td>\n",
       "      <td>0</td>\n",
       "      <td>0</td>\n",
       "      <td>0</td>\n",
       "      <td>0</td>\n",
       "      <td>1</td>\n",
       "      <td>1</td>\n",
       "      <td>0</td>\n",
       "      <td>0</td>\n",
       "      <td>0</td>\n",
       "      <td>0</td>\n",
       "      <td>1</td>\n",
       "      <td>0</td>\n",
       "      <td>0</td>\n",
       "      <td>1</td>\n",
       "      <td>0</td>\n",
       "    </tr>\n",
       "    <tr>\n",
       "      <th>43756</th>\n",
       "      <td>165</td>\n",
       "      <td>51.0</td>\n",
       "      <td>1</td>\n",
       "      <td>0</td>\n",
       "      <td>0</td>\n",
       "      <td>0</td>\n",
       "      <td>0</td>\n",
       "      <td>1</td>\n",
       "      <td>0</td>\n",
       "      <td>0</td>\n",
       "      <td>1</td>\n",
       "      <td>0</td>\n",
       "      <td>0</td>\n",
       "      <td>1</td>\n",
       "      <td>0</td>\n",
       "      <td>0</td>\n",
       "      <td>1</td>\n",
       "      <td>0</td>\n",
       "    </tr>\n",
       "    <tr>\n",
       "      <th>31788</th>\n",
       "      <td>412</td>\n",
       "      <td>63.0</td>\n",
       "      <td>0</td>\n",
       "      <td>0</td>\n",
       "      <td>0</td>\n",
       "      <td>1</td>\n",
       "      <td>0</td>\n",
       "      <td>1</td>\n",
       "      <td>0</td>\n",
       "      <td>1</td>\n",
       "      <td>0</td>\n",
       "      <td>0</td>\n",
       "      <td>0</td>\n",
       "      <td>1</td>\n",
       "      <td>1</td>\n",
       "      <td>0</td>\n",
       "      <td>0</td>\n",
       "      <td>0</td>\n",
       "    </tr>\n",
       "    <tr>\n",
       "      <th>...</th>\n",
       "      <td>...</td>\n",
       "      <td>...</td>\n",
       "      <td>...</td>\n",
       "      <td>...</td>\n",
       "      <td>...</td>\n",
       "      <td>...</td>\n",
       "      <td>...</td>\n",
       "      <td>...</td>\n",
       "      <td>...</td>\n",
       "      <td>...</td>\n",
       "      <td>...</td>\n",
       "      <td>...</td>\n",
       "      <td>...</td>\n",
       "      <td>...</td>\n",
       "      <td>...</td>\n",
       "      <td>...</td>\n",
       "      <td>...</td>\n",
       "      <td>...</td>\n",
       "    </tr>\n",
       "    <tr>\n",
       "      <th>7955</th>\n",
       "      <td>522</td>\n",
       "      <td>84.0</td>\n",
       "      <td>0</td>\n",
       "      <td>0</td>\n",
       "      <td>0</td>\n",
       "      <td>1</td>\n",
       "      <td>0</td>\n",
       "      <td>1</td>\n",
       "      <td>0</td>\n",
       "      <td>1</td>\n",
       "      <td>0</td>\n",
       "      <td>0</td>\n",
       "      <td>0</td>\n",
       "      <td>1</td>\n",
       "      <td>0</td>\n",
       "      <td>1</td>\n",
       "      <td>0</td>\n",
       "      <td>0</td>\n",
       "    </tr>\n",
       "    <tr>\n",
       "      <th>11062</th>\n",
       "      <td>222</td>\n",
       "      <td>96.0</td>\n",
       "      <td>0</td>\n",
       "      <td>0</td>\n",
       "      <td>1</td>\n",
       "      <td>0</td>\n",
       "      <td>0</td>\n",
       "      <td>1</td>\n",
       "      <td>0</td>\n",
       "      <td>1</td>\n",
       "      <td>0</td>\n",
       "      <td>0</td>\n",
       "      <td>0</td>\n",
       "      <td>1</td>\n",
       "      <td>1</td>\n",
       "      <td>0</td>\n",
       "      <td>0</td>\n",
       "      <td>0</td>\n",
       "    </tr>\n",
       "    <tr>\n",
       "      <th>24722</th>\n",
       "      <td>360</td>\n",
       "      <td>165.0</td>\n",
       "      <td>1</td>\n",
       "      <td>0</td>\n",
       "      <td>0</td>\n",
       "      <td>0</td>\n",
       "      <td>0</td>\n",
       "      <td>1</td>\n",
       "      <td>0</td>\n",
       "      <td>1</td>\n",
       "      <td>0</td>\n",
       "      <td>0</td>\n",
       "      <td>0</td>\n",
       "      <td>1</td>\n",
       "      <td>1</td>\n",
       "      <td>0</td>\n",
       "      <td>0</td>\n",
       "      <td>0</td>\n",
       "    </tr>\n",
       "    <tr>\n",
       "      <th>25011</th>\n",
       "      <td>525</td>\n",
       "      <td>212.0</td>\n",
       "      <td>1</td>\n",
       "      <td>0</td>\n",
       "      <td>0</td>\n",
       "      <td>0</td>\n",
       "      <td>0</td>\n",
       "      <td>1</td>\n",
       "      <td>0</td>\n",
       "      <td>1</td>\n",
       "      <td>0</td>\n",
       "      <td>0</td>\n",
       "      <td>1</td>\n",
       "      <td>0</td>\n",
       "      <td>0</td>\n",
       "      <td>0</td>\n",
       "      <td>1</td>\n",
       "      <td>0</td>\n",
       "    </tr>\n",
       "    <tr>\n",
       "      <th>18110</th>\n",
       "      <td>300</td>\n",
       "      <td>51.0</td>\n",
       "      <td>1</td>\n",
       "      <td>0</td>\n",
       "      <td>0</td>\n",
       "      <td>0</td>\n",
       "      <td>0</td>\n",
       "      <td>1</td>\n",
       "      <td>0</td>\n",
       "      <td>0</td>\n",
       "      <td>1</td>\n",
       "      <td>0</td>\n",
       "      <td>0</td>\n",
       "      <td>1</td>\n",
       "      <td>0</td>\n",
       "      <td>0</td>\n",
       "      <td>1</td>\n",
       "      <td>0</td>\n",
       "    </tr>\n",
       "  </tbody>\n",
       "</table>\n",
       "<p>22339 rows × 18 columns</p>\n",
       "</div>"
      ],
      "text/plain": [
       "       amount  income  loan_type_Conventional  loan_type_FHA-insured  \\\n",
       "10375     900   188.0                       1                      0   \n",
       "8872      967   402.0                       1                      0   \n",
       "3531       49   101.0                       1                      0   \n",
       "43756     165    51.0                       1                      0   \n",
       "31788     412    63.0                       0                      0   \n",
       "...       ...     ...                     ...                    ...   \n",
       "7955      522    84.0                       0                      0   \n",
       "11062     222    96.0                       0                      0   \n",
       "24722     360   165.0                       1                      0   \n",
       "25011     525   212.0                       1                      0   \n",
       "18110     300    51.0                       1                      0   \n",
       "\n",
       "       loan_type_FSA/RHS-guaranteed  loan_type_VA-guaranteed  \\\n",
       "10375                             0                        0   \n",
       "8872                              0                        0   \n",
       "3531                              0                        0   \n",
       "43756                             0                        0   \n",
       "31788                             0                        1   \n",
       "...                             ...                      ...   \n",
       "7955                              0                        1   \n",
       "11062                             1                        0   \n",
       "24722                             0                        0   \n",
       "25011                             0                        0   \n",
       "18110                             0                        0   \n",
       "\n",
       "       property_type_Manufactured housing  \\\n",
       "10375                                   0   \n",
       "8872                                    0   \n",
       "3531                                    0   \n",
       "43756                                   0   \n",
       "31788                                   0   \n",
       "...                                   ...   \n",
       "7955                                    0   \n",
       "11062                                   0   \n",
       "24722                                   0   \n",
       "25011                                   0   \n",
       "18110                                   0   \n",
       "\n",
       "       property_type_One-to-four family dwelling (other than manufactured housing)  \\\n",
       "10375                                                  1                             \n",
       "8872                                                   1                             \n",
       "3531                                                   1                             \n",
       "43756                                                  1                             \n",
       "31788                                                  1                             \n",
       "...                                                  ...                             \n",
       "7955                                                   1                             \n",
       "11062                                                  1                             \n",
       "24722                                                  1                             \n",
       "25011                                                  1                             \n",
       "18110                                                  1                             \n",
       "\n",
       "       purpose_Home improvement  purpose_Home purchase  purpose_Refinancing  \\\n",
       "10375                         0                      1                    0   \n",
       "8872                          0                      1                    0   \n",
       "3531                          1                      0                    0   \n",
       "43756                         0                      0                    1   \n",
       "31788                         0                      1                    0   \n",
       "...                         ...                    ...                  ...   \n",
       "7955                          0                      1                    0   \n",
       "11062                         0                      1                    0   \n",
       "24722                         0                      1                    0   \n",
       "25011                         0                      1                    0   \n",
       "18110                         0                      0                    1   \n",
       "\n",
       "       occupancy_Not applicable  \\\n",
       "10375                         0   \n",
       "8872                          0   \n",
       "3531                          0   \n",
       "43756                         0   \n",
       "31788                         0   \n",
       "...                         ...   \n",
       "7955                          0   \n",
       "11062                         0   \n",
       "24722                         0   \n",
       "25011                         0   \n",
       "18110                         0   \n",
       "\n",
       "       occupancy_Not owner-occupied as a principal dwelling  \\\n",
       "10375                                                  1      \n",
       "8872                                                   1      \n",
       "3531                                                   0      \n",
       "43756                                                  0      \n",
       "31788                                                  0      \n",
       "...                                                  ...      \n",
       "7955                                                   0      \n",
       "11062                                                  0      \n",
       "24722                                                  0      \n",
       "25011                                                  1      \n",
       "18110                                                  0      \n",
       "\n",
       "       occupancy_Owner-occupied as a principal dwelling  sex_Female  \\\n",
       "10375                                                 0           0   \n",
       "8872                                                  0           0   \n",
       "3531                                                  1           0   \n",
       "43756                                                 1           0   \n",
       "31788                                                 1           1   \n",
       "...                                                 ...         ...   \n",
       "7955                                                  1           0   \n",
       "11062                                                 1           1   \n",
       "24722                                                 1           1   \n",
       "25011                                                 0           0   \n",
       "18110                                                 1           0   \n",
       "\n",
       "       sex_Information not provided by applicant in mail, Internet, or telephone application  \\\n",
       "10375                                                  0                                       \n",
       "8872                                                   0                                       \n",
       "3531                                                   0                                       \n",
       "43756                                                  0                                       \n",
       "31788                                                  0                                       \n",
       "...                                                  ...                                       \n",
       "7955                                                   1                                       \n",
       "11062                                                  0                                       \n",
       "24722                                                  0                                       \n",
       "25011                                                  0                                       \n",
       "18110                                                  0                                       \n",
       "\n",
       "       sex_Male  sex_Not applicable  \n",
       "10375         1                   0  \n",
       "8872          1                   0  \n",
       "3531          1                   0  \n",
       "43756         1                   0  \n",
       "31788         0                   0  \n",
       "...         ...                 ...  \n",
       "7955          0                   0  \n",
       "11062         0                   0  \n",
       "24722         0                   0  \n",
       "25011         1                   0  \n",
       "18110         1                   0  \n",
       "\n",
       "[22339 rows x 18 columns]"
      ]
     },
     "execution_count": 212,
     "metadata": {},
     "output_type": "execute_result"
    }
   ],
   "source": [
    "X_train"
   ]
  },
  {
   "cell_type": "code",
   "execution_count": null,
   "metadata": {},
   "outputs": [
    {
     "data": {
      "text/plain": [
       "10375    0\n",
       "8872     1\n",
       "3531     1\n",
       "43756    1\n",
       "31788    1\n",
       "        ..\n",
       "7955     1\n",
       "11062    1\n",
       "24722    1\n",
       "25011    1\n",
       "18110    1\n",
       "Name: status, Length: 22339, dtype: int64"
      ]
     },
     "execution_count": 213,
     "metadata": {},
     "output_type": "execute_result"
    }
   ],
   "source": [
    "y_train"
   ]
  },
  {
   "attachments": {},
   "cell_type": "markdown",
   "metadata": {},
   "source": [
    "# KNN"
   ]
  },
  {
   "cell_type": "code",
   "execution_count": null,
   "metadata": {
    "collapsed": true
   },
   "outputs": [],
   "source": [
    "from sklearn.neighbors import KNeighborsClassifier"
   ]
  },
  {
   "cell_type": "code",
   "execution_count": null,
   "metadata": {
    "collapsed": true
   },
   "outputs": [],
   "source": [
    "knn = KNeighborsClassifier(n_neighbors=15)"
   ]
  },
  {
   "cell_type": "code",
   "execution_count": null,
   "metadata": {
    "collapsed": false
   },
   "outputs": [
    {
     "data": {
      "text/plain": [
       "KNeighborsClassifier(n_neighbors=15)"
      ]
     },
     "execution_count": 216,
     "metadata": {},
     "output_type": "execute_result"
    }
   ],
   "source": [
    "knn.fit(X_train, y_train)"
   ]
  },
  {
   "attachments": {},
   "cell_type": "markdown",
   "metadata": {},
   "source": [
    "# Evaluations"
   ]
  },
  {
   "cell_type": "code",
   "execution_count": null,
   "metadata": {
    "collapsed": true
   },
   "outputs": [],
   "source": [
    "from sklearn.metrics import confusion_matrix, classification_report"
   ]
  },
  {
   "cell_type": "code",
   "execution_count": null,
   "metadata": {
    "collapsed": false
   },
   "outputs": [
    {
     "name": "stdout",
     "output_type": "stream",
     "text": [
      "[[ 128 1439]\n",
      " [ 115 7893]]\n"
     ]
    }
   ],
   "source": [
    "print(confusion_matrix(y_test, prediction))"
   ]
  },
  {
   "cell_type": "code",
   "execution_count": null,
   "metadata": {
    "collapsed": false
   },
   "outputs": [
    {
     "name": "stdout",
     "output_type": "stream",
     "text": [
      "              precision    recall  f1-score   support\n",
      "\n",
      "           0       0.53      0.08      0.14      1567\n",
      "           1       0.85      0.99      0.91      8008\n",
      "\n",
      "    accuracy                           0.84      9575\n",
      "   macro avg       0.69      0.53      0.53      9575\n",
      "weighted avg       0.79      0.84      0.78      9575\n",
      "\n"
     ]
    }
   ],
   "source": [
    "print(classification_report(y_test, prediction))"
   ]
  },
  {
   "attachments": {},
   "cell_type": "markdown",
   "metadata": {},
   "source": [
    "# Trying different K values"
   ]
  },
  {
   "cell_type": "code",
   "execution_count": null,
   "metadata": {
    "collapsed": true
   },
   "outputs": [
    {
     "name": "stdout",
     "output_type": "stream",
     "text": [
      "1 2 3 4 5 6 7 8 9 10 11 12 13 14 15 16 17 18 19 20 21 22 23 24 25 26 27 28 29 30 31 32 33 34 35 36 37 38 39 40 41 42 43 44 45 46 47 48 49 "
     ]
    }
   ],
   "source": [
    "MAX_NEIGHBORS = 50\n",
    "error_rate = []\n",
    "for i in range(1, MAX_NEIGHBORS):\n",
    "    print(i, end=' ')\n",
    "    knn = KNeighborsClassifier(n_neighbors=i)\n",
    "    knn.fit(X_train, y_train)\n",
    "    prediction = knn.predict(X_test)\n",
    "    error_rate.append(np.mean(prediction != y_test))"
   ]
  },
  {
   "cell_type": "code",
   "execution_count": null,
   "metadata": {
    "collapsed": false
   },
   "outputs": [
    {
     "data": {
      "text/plain": [
       "Text(0, 0.5, 'Error rate')"
      ]
     },
     "execution_count": 254,
     "metadata": {},
     "output_type": "execute_result"
    },
    {
     "data": {
      "image/png": "[encoded data removed]",
      "text/plain": [
       "<Figure size 700x500 with 1 Axes>"
      ]
     },
     "metadata": {},
     "output_type": "display_data"
    }
   ],
   "source": [
    "figure = plt.figure(figsize=(7,5))\n",
    "plt.plot(np.arange(1,MAX_NEIGHBORS), error_rate, marker='o')\n",
    "plt.title('Error rate vs K Value')\n",
    "plt.xlabel('K Value')\n",
    "plt.ylabel('Error rate')"
   ]
  },
  {
   "attachments": {},
   "cell_type": "markdown",
   "metadata": {},
   "source": [
    "## Retrain with new K Value"
   ]
  },
  {
   "cell_type": "code",
   "execution_count": null,
   "metadata": {
    "collapsed": false
   },
   "outputs": [
    {
     "name": "stdout",
     "output_type": "stream",
     "text": [
      "[[ 126 1441]\n",
      " [ 121 7887]]\n"
     ]
    }
   ],
   "source": [
    "CHOSEN_NEIGHBORS = 20\n",
    "knn = KNeighborsClassifier(n_neighbors=CHOSEN_NEIGHBORS)\n",
    "knn.fit(X_train, y_train)\n",
    "k_prediction = knn.predict(X_test)\n",
    "print(confusion_matrix(y_test, k_prediction))\n"
   ]
  },
  {
   "cell_type": "code",
   "execution_count": null,
   "metadata": {},
   "outputs": [
    {
     "name": "stdout",
     "output_type": "stream",
     "text": [
      "              precision    recall  f1-score   support\n",
      "\n",
      "           0       0.51      0.08      0.14      1567\n",
      "           1       0.85      0.98      0.91      8008\n",
      "\n",
      "    accuracy                           0.84      9575\n",
      "   macro avg       0.68      0.53      0.52      9575\n",
      "weighted avg       0.79      0.84      0.78      9575\n",
      "\n"
     ]
    }
   ],
   "source": [
    "print(classification_report(y_test, k_prediction))\n"
   ]
  },
  {
   "cell_type": "code",
   "execution_count": null,
   "metadata": {},
   "outputs": [
    {
     "data": {
      "text/plain": [
       "0.8368668407310705"
      ]
     },
     "execution_count": 257,
     "metadata": {},
     "output_type": "execute_result"
    }
   ],
   "source": [
    "knn.score(X_test, y_test)"
   ]
  },
  {
   "cell_type": "code",
   "execution_count": null,
   "metadata": {},
   "outputs": [],
   "source": [
    "import pickle\n",
    "knnPickle = open('model', 'wb')\n",
    "\n",
    "# source, destination\n",
    "pickle.dump(knn, knnPickle)\n",
    "\n",
    "# close the file\n",
    "knnPickle.close()\n"
   ]
  }
 ],
 "metadata": {
  "kernelspec": {
   "display_name": "Python 3",
   "language": "python",
   "name": "python3"
  },
  "language_info": {
   "codemirror_mode": {
    "name": "ipython",
    "version": 3
   },
   "file_extension": ".py",
   "mimetype": "text/x-python",
   "name": "python",
   "nbconvert_exporter": "python",
   "pygments_lexer": "ipython3",
   "version": "3.7.11"
  }
 },
 "nbformat": 4,
 "nbformat_minor": 0
}
