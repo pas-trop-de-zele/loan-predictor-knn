{
 "cells": [
  {
   "cell_type": "code",
   "execution_count": 404,
   "metadata": {
    "collapsed": true
   },
   "outputs": [],
   "source": [
    "import numpy as np\n",
    "import pandas as pd\n",
    "import matplotlib.pyplot as plt\n",
    "import seaborn as sns"
   ]
  },
  {
   "attachments": {},
   "cell_type": "markdown",
   "metadata": {},
   "source": [
    "## Get the Data\n",
    "** Read the 'KNN_Project_Data csv file into a dataframe **"
   ]
  },
  {
   "cell_type": "code",
   "execution_count": 455,
   "metadata": {
    "collapsed": true
   },
   "outputs": [],
   "source": [
    "df = pd.read_csv(\"hawaii.csv\")\n"
   ]
  },
  {
   "cell_type": "code",
   "execution_count": 457,
   "metadata": {},
   "outputs": [
    {
     "data": {
      "text/plain": [
       "Index(['loan_type', 'property_type', 'purpose', 'occupancy', 'amount',\n",
       "       'status', 'sex', 'income'],\n",
       "      dtype='object')"
      ]
     },
     "execution_count": 457,
     "metadata": {},
     "output_type": "execute_result"
    }
   ],
   "source": [
    "df.columns"
   ]
  },
  {
   "attachments": {},
   "cell_type": "markdown",
   "metadata": {},
   "source": [
    "**Check the head of the dataframe.**"
   ]
  },
  {
   "cell_type": "code",
   "execution_count": 406,
   "metadata": {
    "collapsed": false
   },
   "outputs": [
    {
     "data": {
      "text/html": [
       "<div>\n",
       "<style scoped>\n",
       "    .dataframe tbody tr th:only-of-type {\n",
       "        vertical-align: middle;\n",
       "    }\n",
       "\n",
       "    .dataframe tbody tr th {\n",
       "        vertical-align: top;\n",
       "    }\n",
       "\n",
       "    .dataframe thead th {\n",
       "        text-align: right;\n",
       "    }\n",
       "</style>\n",
       "<table border=\"1\" class=\"dataframe\">\n",
       "  <thead>\n",
       "    <tr style=\"text-align: right;\">\n",
       "      <th></th>\n",
       "      <th>loan_type</th>\n",
       "      <th>property_type</th>\n",
       "      <th>purpose</th>\n",
       "      <th>occupancy</th>\n",
       "      <th>amount</th>\n",
       "      <th>status</th>\n",
       "      <th>sex</th>\n",
       "      <th>income</th>\n",
       "    </tr>\n",
       "  </thead>\n",
       "  <tbody>\n",
       "    <tr>\n",
       "      <th>0</th>\n",
       "      <td>Conventional</td>\n",
       "      <td>One-to-four family dwelling (other than manufa...</td>\n",
       "      <td>Home purchase</td>\n",
       "      <td>Owner-occupied as a principal dwelling</td>\n",
       "      <td>396</td>\n",
       "      <td>Loan originated</td>\n",
       "      <td>Female</td>\n",
       "      <td>152.0</td>\n",
       "    </tr>\n",
       "    <tr>\n",
       "      <th>1</th>\n",
       "      <td>VA-guaranteed</td>\n",
       "      <td>One-to-four family dwelling (other than manufa...</td>\n",
       "      <td>Home purchase</td>\n",
       "      <td>Owner-occupied as a principal dwelling</td>\n",
       "      <td>662</td>\n",
       "      <td>Loan originated</td>\n",
       "      <td>Male</td>\n",
       "      <td>111.0</td>\n",
       "    </tr>\n",
       "    <tr>\n",
       "      <th>2</th>\n",
       "      <td>Conventional</td>\n",
       "      <td>One-to-four family dwelling (other than manufa...</td>\n",
       "      <td>Home purchase</td>\n",
       "      <td>Owner-occupied as a principal dwelling</td>\n",
       "      <td>461</td>\n",
       "      <td>Loan originated</td>\n",
       "      <td>Female</td>\n",
       "      <td>138.0</td>\n",
       "    </tr>\n",
       "    <tr>\n",
       "      <th>3</th>\n",
       "      <td>Conventional</td>\n",
       "      <td>One-to-four family dwelling (other than manufa...</td>\n",
       "      <td>Refinancing</td>\n",
       "      <td>Not owner-occupied as a principal dwelling</td>\n",
       "      <td>345</td>\n",
       "      <td>Loan originated</td>\n",
       "      <td>Female</td>\n",
       "      <td>184.0</td>\n",
       "    </tr>\n",
       "    <tr>\n",
       "      <th>4</th>\n",
       "      <td>Conventional</td>\n",
       "      <td>One-to-four family dwelling (other than manufa...</td>\n",
       "      <td>Refinancing</td>\n",
       "      <td>Not owner-occupied as a principal dwelling</td>\n",
       "      <td>210</td>\n",
       "      <td>Application withdrawn by applicant</td>\n",
       "      <td>Female</td>\n",
       "      <td>99.0</td>\n",
       "    </tr>\n",
       "  </tbody>\n",
       "</table>\n",
       "</div>"
      ],
      "text/plain": [
       "       loan_type                                      property_type  \\\n",
       "0   Conventional  One-to-four family dwelling (other than manufa...   \n",
       "1  VA-guaranteed  One-to-four family dwelling (other than manufa...   \n",
       "2   Conventional  One-to-four family dwelling (other than manufa...   \n",
       "3   Conventional  One-to-four family dwelling (other than manufa...   \n",
       "4   Conventional  One-to-four family dwelling (other than manufa...   \n",
       "\n",
       "         purpose                                   occupancy  amount  \\\n",
       "0  Home purchase      Owner-occupied as a principal dwelling     396   \n",
       "1  Home purchase      Owner-occupied as a principal dwelling     662   \n",
       "2  Home purchase      Owner-occupied as a principal dwelling     461   \n",
       "3    Refinancing  Not owner-occupied as a principal dwelling     345   \n",
       "4    Refinancing  Not owner-occupied as a principal dwelling     210   \n",
       "\n",
       "                               status     sex  income  \n",
       "0                     Loan originated  Female   152.0  \n",
       "1                     Loan originated    Male   111.0  \n",
       "2                     Loan originated  Female   138.0  \n",
       "3                     Loan originated  Female   184.0  \n",
       "4  Application withdrawn by applicant  Female    99.0  "
      ]
     },
     "execution_count": 406,
     "metadata": {},
     "output_type": "execute_result"
    }
   ],
   "source": [
    "df.head()"
   ]
  },
  {
   "cell_type": "code",
   "execution_count": 407,
   "metadata": {},
   "outputs": [
    {
     "data": {
      "text/plain": [
       "Index(['loan_type', 'property_type', 'purpose', 'occupancy', 'amount',\n",
       "       'status', 'sex', 'income'],\n",
       "      dtype='object')"
      ]
     },
     "execution_count": 407,
     "metadata": {},
     "output_type": "execute_result"
    }
   ],
   "source": [
    "df.columns"
   ]
  },
  {
   "attachments": {},
   "cell_type": "markdown",
   "metadata": {},
   "source": [
    "# EDA"
   ]
  },
  {
   "cell_type": "code",
   "execution_count": 408,
   "metadata": {},
   "outputs": [],
   "source": [
    "# Remove null values\n",
    "df = df.dropna()"
   ]
  },
  {
   "attachments": {},
   "cell_type": "markdown",
   "metadata": {},
   "source": [
    "### Status"
   ]
  },
  {
   "cell_type": "code",
   "execution_count": 409,
   "metadata": {},
   "outputs": [],
   "source": [
    "# Keep only records that either granted or rejected loans\n",
    "states = ['originated', 'approved', 'denied']\n",
    "df = df[df.apply(lambda x: any(s in x.status for s in states), axis=1)]"
   ]
  },
  {
   "cell_type": "code",
   "execution_count": 410,
   "metadata": {},
   "outputs": [
    {
     "data": {
      "text/plain": [
       "Loan originated                                25429\n",
       "Application denied by financial institution     5321\n",
       "Application approved but not accepted           1164\n",
       "Name: status, dtype: int64"
      ]
     },
     "execution_count": 410,
     "metadata": {},
     "output_type": "execute_result"
    }
   ],
   "source": [
    "df.status.value_counts()"
   ]
  },
  {
   "cell_type": "code",
   "execution_count": 411,
   "metadata": {},
   "outputs": [],
   "source": [
    "# Merged approved and withdrawn in row status\n",
    "def f(row):\n",
    "    return 1 if (\"approved\" in row.status or \"originated\" in row.status) else 0\n",
    "df['status'] = df.apply(f, axis=1)\n"
   ]
  },
  {
   "cell_type": "code",
   "execution_count": 412,
   "metadata": {},
   "outputs": [
    {
     "data": {
      "text/plain": [
       "array([1, 0])"
      ]
     },
     "execution_count": 412,
     "metadata": {},
     "output_type": "execute_result"
    }
   ],
   "source": [
    "df['status'].unique()"
   ]
  },
  {
   "cell_type": "code",
   "execution_count": 413,
   "metadata": {},
   "outputs": [
    {
     "data": {
      "text/plain": [
       "1    26593\n",
       "0     5321\n",
       "Name: status, dtype: int64"
      ]
     },
     "execution_count": 413,
     "metadata": {},
     "output_type": "execute_result"
    }
   ],
   "source": [
    "# Making sure the counts added up\n",
    "df.status.value_counts()"
   ]
  },
  {
   "attachments": {},
   "cell_type": "markdown",
   "metadata": {},
   "source": [
    "# Encode Categorical Features"
   ]
  },
  {
   "cell_type": "code",
   "execution_count": 414,
   "metadata": {},
   "outputs": [
    {
     "data": {
      "text/plain": [
       "loan_type         object\n",
       "property_type     object\n",
       "purpose           object\n",
       "occupancy         object\n",
       "amount             int64\n",
       "status             int64\n",
       "sex               object\n",
       "income           float64\n",
       "dtype: object"
      ]
     },
     "execution_count": 414,
     "metadata": {},
     "output_type": "execute_result"
    }
   ],
   "source": [
    "df.dtypes"
   ]
  },
  {
   "cell_type": "code",
   "execution_count": 415,
   "metadata": {},
   "outputs": [
    {
     "data": {
      "text/html": [
       "<div>\n",
       "<style scoped>\n",
       "    .dataframe tbody tr th:only-of-type {\n",
       "        vertical-align: middle;\n",
       "    }\n",
       "\n",
       "    .dataframe tbody tr th {\n",
       "        vertical-align: top;\n",
       "    }\n",
       "\n",
       "    .dataframe thead th {\n",
       "        text-align: right;\n",
       "    }\n",
       "</style>\n",
       "<table border=\"1\" class=\"dataframe\">\n",
       "  <thead>\n",
       "    <tr style=\"text-align: right;\">\n",
       "      <th></th>\n",
       "      <th>amount</th>\n",
       "      <th>status</th>\n",
       "      <th>income</th>\n",
       "      <th>loan_type_Conventional</th>\n",
       "      <th>loan_type_FHA-insured</th>\n",
       "      <th>loan_type_FSA/RHS-guaranteed</th>\n",
       "      <th>loan_type_VA-guaranteed</th>\n",
       "      <th>property_type_Manufactured housing</th>\n",
       "      <th>property_type_One-to-four family dwelling (other than manufactured housing)</th>\n",
       "      <th>purpose_Home improvement</th>\n",
       "      <th>purpose_Home purchase</th>\n",
       "      <th>purpose_Refinancing</th>\n",
       "      <th>occupancy_Not applicable</th>\n",
       "      <th>occupancy_Not owner-occupied as a principal dwelling</th>\n",
       "      <th>occupancy_Owner-occupied as a principal dwelling</th>\n",
       "      <th>sex_Female</th>\n",
       "      <th>sex_Information not provided by applicant in mail, Internet, or telephone application</th>\n",
       "      <th>sex_Male</th>\n",
       "      <th>sex_Not applicable</th>\n",
       "    </tr>\n",
       "  </thead>\n",
       "  <tbody>\n",
       "    <tr>\n",
       "      <th>0</th>\n",
       "      <td>396</td>\n",
       "      <td>1</td>\n",
       "      <td>152.0</td>\n",
       "      <td>1</td>\n",
       "      <td>0</td>\n",
       "      <td>0</td>\n",
       "      <td>0</td>\n",
       "      <td>0</td>\n",
       "      <td>1</td>\n",
       "      <td>0</td>\n",
       "      <td>1</td>\n",
       "      <td>0</td>\n",
       "      <td>0</td>\n",
       "      <td>0</td>\n",
       "      <td>1</td>\n",
       "      <td>1</td>\n",
       "      <td>0</td>\n",
       "      <td>0</td>\n",
       "      <td>0</td>\n",
       "    </tr>\n",
       "    <tr>\n",
       "      <th>1</th>\n",
       "      <td>662</td>\n",
       "      <td>1</td>\n",
       "      <td>111.0</td>\n",
       "      <td>0</td>\n",
       "      <td>0</td>\n",
       "      <td>0</td>\n",
       "      <td>1</td>\n",
       "      <td>0</td>\n",
       "      <td>1</td>\n",
       "      <td>0</td>\n",
       "      <td>1</td>\n",
       "      <td>0</td>\n",
       "      <td>0</td>\n",
       "      <td>0</td>\n",
       "      <td>1</td>\n",
       "      <td>0</td>\n",
       "      <td>0</td>\n",
       "      <td>1</td>\n",
       "      <td>0</td>\n",
       "    </tr>\n",
       "    <tr>\n",
       "      <th>2</th>\n",
       "      <td>461</td>\n",
       "      <td>1</td>\n",
       "      <td>138.0</td>\n",
       "      <td>1</td>\n",
       "      <td>0</td>\n",
       "      <td>0</td>\n",
       "      <td>0</td>\n",
       "      <td>0</td>\n",
       "      <td>1</td>\n",
       "      <td>0</td>\n",
       "      <td>1</td>\n",
       "      <td>0</td>\n",
       "      <td>0</td>\n",
       "      <td>0</td>\n",
       "      <td>1</td>\n",
       "      <td>1</td>\n",
       "      <td>0</td>\n",
       "      <td>0</td>\n",
       "      <td>0</td>\n",
       "    </tr>\n",
       "    <tr>\n",
       "      <th>3</th>\n",
       "      <td>345</td>\n",
       "      <td>1</td>\n",
       "      <td>184.0</td>\n",
       "      <td>1</td>\n",
       "      <td>0</td>\n",
       "      <td>0</td>\n",
       "      <td>0</td>\n",
       "      <td>0</td>\n",
       "      <td>1</td>\n",
       "      <td>0</td>\n",
       "      <td>0</td>\n",
       "      <td>1</td>\n",
       "      <td>0</td>\n",
       "      <td>1</td>\n",
       "      <td>0</td>\n",
       "      <td>1</td>\n",
       "      <td>0</td>\n",
       "      <td>0</td>\n",
       "      <td>0</td>\n",
       "    </tr>\n",
       "    <tr>\n",
       "      <th>5</th>\n",
       "      <td>563</td>\n",
       "      <td>0</td>\n",
       "      <td>116.0</td>\n",
       "      <td>0</td>\n",
       "      <td>0</td>\n",
       "      <td>0</td>\n",
       "      <td>1</td>\n",
       "      <td>0</td>\n",
       "      <td>1</td>\n",
       "      <td>0</td>\n",
       "      <td>0</td>\n",
       "      <td>1</td>\n",
       "      <td>0</td>\n",
       "      <td>0</td>\n",
       "      <td>1</td>\n",
       "      <td>0</td>\n",
       "      <td>0</td>\n",
       "      <td>1</td>\n",
       "      <td>0</td>\n",
       "    </tr>\n",
       "  </tbody>\n",
       "</table>\n",
       "</div>"
      ],
      "text/plain": [
       "   amount  status  income  loan_type_Conventional  loan_type_FHA-insured  \\\n",
       "0     396       1   152.0                       1                      0   \n",
       "1     662       1   111.0                       0                      0   \n",
       "2     461       1   138.0                       1                      0   \n",
       "3     345       1   184.0                       1                      0   \n",
       "5     563       0   116.0                       0                      0   \n",
       "\n",
       "   loan_type_FSA/RHS-guaranteed  loan_type_VA-guaranteed  \\\n",
       "0                             0                        0   \n",
       "1                             0                        1   \n",
       "2                             0                        0   \n",
       "3                             0                        0   \n",
       "5                             0                        1   \n",
       "\n",
       "   property_type_Manufactured housing  \\\n",
       "0                                   0   \n",
       "1                                   0   \n",
       "2                                   0   \n",
       "3                                   0   \n",
       "5                                   0   \n",
       "\n",
       "   property_type_One-to-four family dwelling (other than manufactured housing)  \\\n",
       "0                                                  1                             \n",
       "1                                                  1                             \n",
       "2                                                  1                             \n",
       "3                                                  1                             \n",
       "5                                                  1                             \n",
       "\n",
       "   purpose_Home improvement  purpose_Home purchase  purpose_Refinancing  \\\n",
       "0                         0                      1                    0   \n",
       "1                         0                      1                    0   \n",
       "2                         0                      1                    0   \n",
       "3                         0                      0                    1   \n",
       "5                         0                      0                    1   \n",
       "\n",
       "   occupancy_Not applicable  \\\n",
       "0                         0   \n",
       "1                         0   \n",
       "2                         0   \n",
       "3                         0   \n",
       "5                         0   \n",
       "\n",
       "   occupancy_Not owner-occupied as a principal dwelling  \\\n",
       "0                                                  0      \n",
       "1                                                  0      \n",
       "2                                                  0      \n",
       "3                                                  1      \n",
       "5                                                  0      \n",
       "\n",
       "   occupancy_Owner-occupied as a principal dwelling  sex_Female  \\\n",
       "0                                                 1           1   \n",
       "1                                                 1           0   \n",
       "2                                                 1           1   \n",
       "3                                                 0           1   \n",
       "5                                                 1           0   \n",
       "\n",
       "   sex_Information not provided by applicant in mail, Internet, or telephone application  \\\n",
       "0                                                  0                                       \n",
       "1                                                  0                                       \n",
       "2                                                  0                                       \n",
       "3                                                  0                                       \n",
       "5                                                  0                                       \n",
       "\n",
       "   sex_Male  sex_Not applicable  \n",
       "0         0                   0  \n",
       "1         1                   0  \n",
       "2         0                   0  \n",
       "3         0                   0  \n",
       "5         1                   0  "
      ]
     },
     "execution_count": 415,
     "metadata": {},
     "output_type": "execute_result"
    }
   ],
   "source": [
    "from sklearn.compose import make_column_selector as selector\n",
    "\n",
    "categorical_columns_selector = selector(dtype_include=object)\n",
    "categorical_columns = categorical_columns_selector(df)\n",
    "categorical_columns\n",
    "df = pd.get_dummies(df, columns=categorical_columns)\n",
    "df.head()\n"
   ]
  },
  {
   "cell_type": "code",
   "execution_count": 416,
   "metadata": {},
   "outputs": [],
   "source": [
    "categorical_columns_selector = selector(dtype_include=object)\n",
    "categorical_columns = categorical_columns_selector(df)"
   ]
  },
  {
   "attachments": {},
   "cell_type": "markdown",
   "metadata": {},
   "source": [
    "# Standardize the Variables\n",
    "\n",
    "Time to standardize the variables.\n",
    "\n",
    "** Import StandardScaler from Scikit learn.**"
   ]
  },
  {
   "cell_type": "code",
   "execution_count": 417,
   "metadata": {
    "collapsed": true
   },
   "outputs": [],
   "source": [
    "from sklearn.preprocessing import StandardScaler"
   ]
  },
  {
   "attachments": {},
   "cell_type": "markdown",
   "metadata": {},
   "source": [
    "** Create a StandardScaler() object called scaler.**"
   ]
  },
  {
   "cell_type": "code",
   "execution_count": 418,
   "metadata": {
    "collapsed": true
   },
   "outputs": [],
   "source": [
    "scaler = StandardScaler()"
   ]
  },
  {
   "attachments": {},
   "cell_type": "markdown",
   "metadata": {},
   "source": [
    "** Fit scaler to the features.**"
   ]
  },
  {
   "cell_type": "code",
   "execution_count": 419,
   "metadata": {
    "collapsed": false
   },
   "outputs": [
    {
     "data": {
      "text/plain": [
       "StandardScaler()"
      ]
     },
     "execution_count": 419,
     "metadata": {},
     "output_type": "execute_result"
    }
   ],
   "source": [
    "scaler.fit(df.drop('status', axis=1))"
   ]
  },
  {
   "attachments": {},
   "cell_type": "markdown",
   "metadata": {},
   "source": [
    "**Use the .transform() method to transform the features to a scaled version.**"
   ]
  },
  {
   "cell_type": "code",
   "execution_count": 420,
   "metadata": {
    "collapsed": true
   },
   "outputs": [],
   "source": [
    "scaled_features = scaler.transform(df.drop('status', axis=1))\n"
   ]
  },
  {
   "attachments": {},
   "cell_type": "markdown",
   "metadata": {},
   "source": [
    "**Convert the scaled features to a dataframe and check the head of this dataframe to make sure the scaling worked.**"
   ]
  },
  {
   "cell_type": "code",
   "execution_count": 421,
   "metadata": {
    "collapsed": false
   },
   "outputs": [
    {
     "data": {
      "text/html": [
       "<div>\n",
       "<style scoped>\n",
       "    .dataframe tbody tr th:only-of-type {\n",
       "        vertical-align: middle;\n",
       "    }\n",
       "\n",
       "    .dataframe tbody tr th {\n",
       "        vertical-align: top;\n",
       "    }\n",
       "\n",
       "    .dataframe thead th {\n",
       "        text-align: right;\n",
       "    }\n",
       "</style>\n",
       "<table border=\"1\" class=\"dataframe\">\n",
       "  <thead>\n",
       "    <tr style=\"text-align: right;\">\n",
       "      <th></th>\n",
       "      <th>amount</th>\n",
       "      <th>income</th>\n",
       "      <th>loan_type_Conventional</th>\n",
       "      <th>loan_type_FHA-insured</th>\n",
       "      <th>loan_type_FSA/RHS-guaranteed</th>\n",
       "      <th>loan_type_VA-guaranteed</th>\n",
       "      <th>property_type_Manufactured housing</th>\n",
       "      <th>property_type_One-to-four family dwelling (other than manufactured housing)</th>\n",
       "      <th>purpose_Home improvement</th>\n",
       "      <th>purpose_Home purchase</th>\n",
       "      <th>purpose_Refinancing</th>\n",
       "      <th>occupancy_Not applicable</th>\n",
       "      <th>occupancy_Not owner-occupied as a principal dwelling</th>\n",
       "      <th>occupancy_Owner-occupied as a principal dwelling</th>\n",
       "      <th>sex_Female</th>\n",
       "      <th>sex_Information not provided by applicant in mail, Internet, or telephone application</th>\n",
       "      <th>sex_Male</th>\n",
       "      <th>sex_Not applicable</th>\n",
       "    </tr>\n",
       "  </thead>\n",
       "  <tbody>\n",
       "    <tr>\n",
       "      <th>0</th>\n",
       "      <td>-0.103112</td>\n",
       "      <td>-0.000361</td>\n",
       "      <td>0.542269</td>\n",
       "      <td>-0.243764</td>\n",
       "      <td>-0.140987</td>\n",
       "      <td>-0.422811</td>\n",
       "      <td>-0.012518</td>\n",
       "      <td>0.012518</td>\n",
       "      <td>-0.341205</td>\n",
       "      <td>1.013883</td>\n",
       "      <td>-0.820949</td>\n",
       "      <td>-0.020187</td>\n",
       "      <td>-0.474205</td>\n",
       "      <td>0.474849</td>\n",
       "      <td>1.738807</td>\n",
       "      <td>-0.321044</td>\n",
       "      <td>-1.384624</td>\n",
       "      <td>-0.028554</td>\n",
       "    </tr>\n",
       "    <tr>\n",
       "      <th>1</th>\n",
       "      <td>0.690162</td>\n",
       "      <td>-0.064687</td>\n",
       "      <td>-1.844103</td>\n",
       "      <td>-0.243764</td>\n",
       "      <td>-0.140987</td>\n",
       "      <td>2.365122</td>\n",
       "      <td>-0.012518</td>\n",
       "      <td>0.012518</td>\n",
       "      <td>-0.341205</td>\n",
       "      <td>1.013883</td>\n",
       "      <td>-0.820949</td>\n",
       "      <td>-0.020187</td>\n",
       "      <td>-0.474205</td>\n",
       "      <td>0.474849</td>\n",
       "      <td>-0.575107</td>\n",
       "      <td>-0.321044</td>\n",
       "      <td>0.722218</td>\n",
       "      <td>-0.028554</td>\n",
       "    </tr>\n",
       "    <tr>\n",
       "      <th>2</th>\n",
       "      <td>0.090733</td>\n",
       "      <td>-0.022326</td>\n",
       "      <td>0.542269</td>\n",
       "      <td>-0.243764</td>\n",
       "      <td>-0.140987</td>\n",
       "      <td>-0.422811</td>\n",
       "      <td>-0.012518</td>\n",
       "      <td>0.012518</td>\n",
       "      <td>-0.341205</td>\n",
       "      <td>1.013883</td>\n",
       "      <td>-0.820949</td>\n",
       "      <td>-0.020187</td>\n",
       "      <td>-0.474205</td>\n",
       "      <td>0.474849</td>\n",
       "      <td>1.738807</td>\n",
       "      <td>-0.321044</td>\n",
       "      <td>-1.384624</td>\n",
       "      <td>-0.028554</td>\n",
       "    </tr>\n",
       "    <tr>\n",
       "      <th>3</th>\n",
       "      <td>-0.255206</td>\n",
       "      <td>0.049844</td>\n",
       "      <td>0.542269</td>\n",
       "      <td>-0.243764</td>\n",
       "      <td>-0.140987</td>\n",
       "      <td>-0.422811</td>\n",
       "      <td>-0.012518</td>\n",
       "      <td>0.012518</td>\n",
       "      <td>-0.341205</td>\n",
       "      <td>-0.986307</td>\n",
       "      <td>1.218102</td>\n",
       "      <td>-0.020187</td>\n",
       "      <td>2.108792</td>\n",
       "      <td>-2.105931</td>\n",
       "      <td>1.738807</td>\n",
       "      <td>-0.321044</td>\n",
       "      <td>-1.384624</td>\n",
       "      <td>-0.028554</td>\n",
       "    </tr>\n",
       "    <tr>\n",
       "      <th>4</th>\n",
       "      <td>0.394921</td>\n",
       "      <td>-0.056843</td>\n",
       "      <td>-1.844103</td>\n",
       "      <td>-0.243764</td>\n",
       "      <td>-0.140987</td>\n",
       "      <td>2.365122</td>\n",
       "      <td>-0.012518</td>\n",
       "      <td>0.012518</td>\n",
       "      <td>-0.341205</td>\n",
       "      <td>-0.986307</td>\n",
       "      <td>1.218102</td>\n",
       "      <td>-0.020187</td>\n",
       "      <td>-0.474205</td>\n",
       "      <td>0.474849</td>\n",
       "      <td>-0.575107</td>\n",
       "      <td>-0.321044</td>\n",
       "      <td>0.722218</td>\n",
       "      <td>-0.028554</td>\n",
       "    </tr>\n",
       "  </tbody>\n",
       "</table>\n",
       "</div>"
      ],
      "text/plain": [
       "     amount    income  loan_type_Conventional  loan_type_FHA-insured  \\\n",
       "0 -0.103112 -0.000361                0.542269              -0.243764   \n",
       "1  0.690162 -0.064687               -1.844103              -0.243764   \n",
       "2  0.090733 -0.022326                0.542269              -0.243764   \n",
       "3 -0.255206  0.049844                0.542269              -0.243764   \n",
       "4  0.394921 -0.056843               -1.844103              -0.243764   \n",
       "\n",
       "   loan_type_FSA/RHS-guaranteed  loan_type_VA-guaranteed  \\\n",
       "0                     -0.140987                -0.422811   \n",
       "1                     -0.140987                 2.365122   \n",
       "2                     -0.140987                -0.422811   \n",
       "3                     -0.140987                -0.422811   \n",
       "4                     -0.140987                 2.365122   \n",
       "\n",
       "   property_type_Manufactured housing  \\\n",
       "0                           -0.012518   \n",
       "1                           -0.012518   \n",
       "2                           -0.012518   \n",
       "3                           -0.012518   \n",
       "4                           -0.012518   \n",
       "\n",
       "   property_type_One-to-four family dwelling (other than manufactured housing)  \\\n",
       "0                                           0.012518                             \n",
       "1                                           0.012518                             \n",
       "2                                           0.012518                             \n",
       "3                                           0.012518                             \n",
       "4                                           0.012518                             \n",
       "\n",
       "   purpose_Home improvement  purpose_Home purchase  purpose_Refinancing  \\\n",
       "0                 -0.341205               1.013883            -0.820949   \n",
       "1                 -0.341205               1.013883            -0.820949   \n",
       "2                 -0.341205               1.013883            -0.820949   \n",
       "3                 -0.341205              -0.986307             1.218102   \n",
       "4                 -0.341205              -0.986307             1.218102   \n",
       "\n",
       "   occupancy_Not applicable  \\\n",
       "0                 -0.020187   \n",
       "1                 -0.020187   \n",
       "2                 -0.020187   \n",
       "3                 -0.020187   \n",
       "4                 -0.020187   \n",
       "\n",
       "   occupancy_Not owner-occupied as a principal dwelling  \\\n",
       "0                                          -0.474205      \n",
       "1                                          -0.474205      \n",
       "2                                          -0.474205      \n",
       "3                                           2.108792      \n",
       "4                                          -0.474205      \n",
       "\n",
       "   occupancy_Owner-occupied as a principal dwelling  sex_Female  \\\n",
       "0                                          0.474849    1.738807   \n",
       "1                                          0.474849   -0.575107   \n",
       "2                                          0.474849    1.738807   \n",
       "3                                         -2.105931    1.738807   \n",
       "4                                          0.474849   -0.575107   \n",
       "\n",
       "   sex_Information not provided by applicant in mail, Internet, or telephone application  \\\n",
       "0                                          -0.321044                                       \n",
       "1                                          -0.321044                                       \n",
       "2                                          -0.321044                                       \n",
       "3                                          -0.321044                                       \n",
       "4                                          -0.321044                                       \n",
       "\n",
       "   sex_Male  sex_Not applicable  \n",
       "0 -1.384624           -0.028554  \n",
       "1  0.722218           -0.028554  \n",
       "2 -1.384624           -0.028554  \n",
       "3 -1.384624           -0.028554  \n",
       "4  0.722218           -0.028554  "
      ]
     },
     "execution_count": 421,
     "metadata": {},
     "output_type": "execute_result"
    }
   ],
   "source": [
    "df_features = pd.DataFrame(scaled_features, columns=[col for col in df.columns if col != 'status'])\n",
    "df_features.head()\n"
   ]
  },
  {
   "attachments": {},
   "cell_type": "markdown",
   "metadata": {},
   "source": [
    "# Train Test Split\n",
    "\n",
    "**Use train_test_split to split your data into a training set and a testing set.**"
   ]
  },
  {
   "cell_type": "code",
   "execution_count": 422,
   "metadata": {
    "collapsed": true
   },
   "outputs": [],
   "source": [
    "from sklearn.model_selection import train_test_split"
   ]
  },
  {
   "cell_type": "code",
   "execution_count": 423,
   "metadata": {
    "collapsed": true
   },
   "outputs": [],
   "source": [
    "X_train, X_test, y_train, y_test = train_test_split(\n",
    "    df_features, df['status'], test_size=0.3, random_state=101)\n"
   ]
  },
  {
   "attachments": {},
   "cell_type": "markdown",
   "metadata": {},
   "source": [
    "# Using KNN\n",
    "\n",
    "**Import KNeighborsClassifier from scikit learn.**"
   ]
  },
  {
   "cell_type": "code",
   "execution_count": 424,
   "metadata": {
    "collapsed": true
   },
   "outputs": [],
   "source": [
    "from sklearn.neighbors import KNeighborsClassifier"
   ]
  },
  {
   "attachments": {},
   "cell_type": "markdown",
   "metadata": {},
   "source": [
    "**Create a KNN model instance with n_neighbors=1**"
   ]
  },
  {
   "cell_type": "code",
   "execution_count": 425,
   "metadata": {
    "collapsed": true
   },
   "outputs": [],
   "source": [
    "knn = KNeighborsClassifier(n_neighbors=15)"
   ]
  },
  {
   "attachments": {},
   "cell_type": "markdown",
   "metadata": {},
   "source": [
    "**Fit this KNN model to the training data.**"
   ]
  },
  {
   "cell_type": "code",
   "execution_count": 426,
   "metadata": {
    "collapsed": false
   },
   "outputs": [
    {
     "data": {
      "text/plain": [
       "KNeighborsClassifier(n_neighbors=15)"
      ]
     },
     "execution_count": 426,
     "metadata": {},
     "output_type": "execute_result"
    }
   ],
   "source": [
    "knn.fit(X_train, y_train)"
   ]
  },
  {
   "attachments": {},
   "cell_type": "markdown",
   "metadata": {},
   "source": [
    "# Predictions and Evaluations\n",
    "Let's evaluate our KNN model!"
   ]
  },
  {
   "attachments": {},
   "cell_type": "markdown",
   "metadata": {},
   "source": [
    "**Use the predict method to predict values using your KNN model and X_test.**"
   ]
  },
  {
   "cell_type": "code",
   "execution_count": 427,
   "metadata": {
    "collapsed": false
   },
   "outputs": [],
   "source": [
    "prediction = knn.predict(X_test)"
   ]
  },
  {
   "attachments": {},
   "cell_type": "markdown",
   "metadata": {},
   "source": [
    "** Create a confusion matrix and classification report.**"
   ]
  },
  {
   "cell_type": "code",
   "execution_count": 428,
   "metadata": {
    "collapsed": true
   },
   "outputs": [],
   "source": [
    "from sklearn.metrics import confusion_matrix, classification_report"
   ]
  },
  {
   "cell_type": "code",
   "execution_count": 429,
   "metadata": {
    "collapsed": false
   },
   "outputs": [
    {
     "name": "stdout",
     "output_type": "stream",
     "text": [
      "[[  92 1475]\n",
      " [ 147 7861]]\n"
     ]
    }
   ],
   "source": [
    "print(confusion_matrix(y_test, prediction))"
   ]
  },
  {
   "cell_type": "code",
   "execution_count": 430,
   "metadata": {
    "collapsed": false
   },
   "outputs": [
    {
     "name": "stdout",
     "output_type": "stream",
     "text": [
      "              precision    recall  f1-score   support\n",
      "\n",
      "           0       0.38      0.06      0.10      1567\n",
      "           1       0.84      0.98      0.91      8008\n",
      "\n",
      "    accuracy                           0.83      9575\n",
      "   macro avg       0.61      0.52      0.50      9575\n",
      "weighted avg       0.77      0.83      0.77      9575\n",
      "\n"
     ]
    }
   ],
   "source": [
    "print(classification_report(y_test, prediction))"
   ]
  },
  {
   "attachments": {},
   "cell_type": "markdown",
   "metadata": {},
   "source": [
    "# Choosing a K Value\n",
    "Let's go ahead and use the elbow method to pick a good K Value!\n",
    "\n",
    "** Create a for loop that trains various KNN models with different k values, then keep track of the error_rate for each of these models with a list. Refer to the lecture if you are confused on this step.**"
   ]
  },
  {
   "cell_type": "code",
   "execution_count": 437,
   "metadata": {
    "collapsed": true
   },
   "outputs": [
    {
     "name": "stdout",
     "output_type": "stream",
     "text": [
      "1\n",
      "2\n",
      "3\n",
      "4\n",
      "5\n",
      "6\n",
      "7\n",
      "8\n",
      "9\n",
      "10\n",
      "11\n",
      "12\n",
      "13\n",
      "14\n",
      "15\n",
      "16\n",
      "17\n",
      "18\n",
      "19\n",
      "20\n",
      "21\n",
      "22\n",
      "23\n",
      "24\n",
      "25\n",
      "26\n",
      "27\n",
      "28\n",
      "29\n",
      "30\n",
      "31\n",
      "32\n",
      "33\n",
      "34\n",
      "35\n",
      "36\n",
      "37\n",
      "38\n",
      "39\n",
      "40\n",
      "41\n",
      "42\n",
      "43\n",
      "44\n",
      "45\n",
      "46\n",
      "47\n",
      "48\n",
      "49\n"
     ]
    }
   ],
   "source": [
    "# error_rate = []\n",
    "# for i in range(1, 50):\n",
    "#     print(i)\n",
    "#     knn = KNeighborsClassifier(n_neighbors=i)\n",
    "#     knn.fit(X_train, y_train)\n",
    "#     prediction = knn.predict(X_test)\n",
    "#     error_rate.append(np.mean(prediction != y_test))"
   ]
  },
  {
   "attachments": {},
   "cell_type": "markdown",
   "metadata": {},
   "source": [
    "**Now create the following plot using the information from your for loop.**"
   ]
  },
  {
   "cell_type": "code",
   "execution_count": 439,
   "metadata": {
    "collapsed": false
   },
   "outputs": [
    {
     "data": {
      "text/plain": [
       "Text(0, 0.5, 'Error rate')"
      ]
     },
     "execution_count": 439,
     "metadata": {},
     "output_type": "execute_result"
    },
    {
     "data": {
      "image/png": "[encoded data removed]",
      "text/plain": [
       "<Figure size 504x360 with 1 Axes>"
      ]
     },
     "metadata": {
      "needs_background": "light"
     },
     "output_type": "display_data"
    }
   ],
   "source": [
    "# figure = plt.figure(figsize=(7,5))\n",
    "# plt.plot(np.arange(1,50), error_rate, marker='o')\n",
    "# plt.title('Error rate vs K Value')\n",
    "# plt.xlabel('K Value')\n",
    "# plt.ylabel('Error rate')"
   ]
  },
  {
   "attachments": {},
   "cell_type": "markdown",
   "metadata": {},
   "source": [
    "## Retrain with new K Value\n",
    "\n",
    "**Retrain your model with the best K value (up to you to decide what you want) and re-do the classification report and the confusion matrix.**"
   ]
  },
  {
   "cell_type": "code",
   "execution_count": 460,
   "metadata": {
    "collapsed": false
   },
   "outputs": [
    {
     "name": "stdout",
     "output_type": "stream",
     "text": [
      "[[  63 1504]\n",
      " [  69 7939]]\n"
     ]
    }
   ],
   "source": [
    "knn = KNeighborsClassifier(n_neighbors=35)\n",
    "knn.fit(X_train, y_train)\n",
    "k_100_prediction = knn.predict(X_test)\n",
    "print(confusion_matrix(y_test, k_100_prediction))\n"
   ]
  },
  {
   "cell_type": "code",
   "execution_count": 450,
   "metadata": {},
   "outputs": [
    {
     "name": "stdout",
     "output_type": "stream",
     "text": [
      "              precision    recall  f1-score   support\n",
      "\n",
      "           0       0.48      0.04      0.07      1567\n",
      "           1       0.84      0.99      0.91      8008\n",
      "\n",
      "    accuracy                           0.84      9575\n",
      "   macro avg       0.66      0.52      0.49      9575\n",
      "weighted avg       0.78      0.84      0.77      9575\n",
      "\n"
     ]
    }
   ],
   "source": [
    "print(classification_report(y_test, k_100_prediction))\n"
   ]
  },
  {
   "cell_type": "code",
   "execution_count": 458,
   "metadata": {},
   "outputs": [
    {
     "data": {
      "text/plain": [
       "0.8357180156657964"
      ]
     },
     "execution_count": 458,
     "metadata": {},
     "output_type": "execute_result"
    }
   ],
   "source": [
    "knn.score(X_test, y_test)"
   ]
  },
  {
   "cell_type": "code",
   "execution_count": 454,
   "metadata": {},
   "outputs": [],
   "source": [
    "import pickle\n",
    "knnPickle = open('model', 'wb')\n",
    "\n",
    "# source, destination\n",
    "pickle.dump(knn, knnPickle)\n",
    "\n",
    "# close the file\n",
    "knnPickle.close()\n"
   ]
  }
 ],
 "metadata": {
  "kernelspec": {
   "display_name": "Python 3",
   "language": "python",
   "name": "python3"
  },
  "language_info": {
   "codemirror_mode": {
    "name": "ipython",
    "version": 3
   },
   "file_extension": ".py",
   "mimetype": "text/x-python",
   "name": "python",
   "nbconvert_exporter": "python",
   "pygments_lexer": "ipython3",
   "version": "3.6.13"
  }
 },
 "nbformat": 4,
 "nbformat_minor": 0
}
